{
  "nbformat": 4,
  "nbformat_minor": 0,
  "metadata": {
    "colab": {
      "provenance": [],
      "authorship_tag": "ABX9TyPf4JxQACyaOMvXYNIZqDJk",
      "include_colab_link": true
    },
    "kernelspec": {
      "name": "python3",
      "display_name": "Python 3"
    },
    "language_info": {
      "name": "python"
    }
  },
  "cells": [
    {
      "cell_type": "markdown",
      "metadata": {
        "id": "view-in-github",
        "colab_type": "text"
      },
      "source": [
        "<a href=\"https://colab.research.google.com/github/Aman78695/nlp-tasks-through-OOP-using-free-API-online/blob/main/OOP_programming_to_perform_nlp_tasks_by_hitting_at_online_api.ipynb\" target=\"_parent\"><img src=\"https://colab.research.google.com/assets/colab-badge.svg\" alt=\"Open In Colab\"/></a>"
      ]
    },
    {
      "cell_type": "code",
      "execution_count": null,
      "metadata": {
        "id": "wTnyBqU8umYC"
      },
      "outputs": [],
      "source": [
        "import numpy as np\n",
        "import pandas as pd"
      ]
    },
    {
      "cell_type": "code",
      "source": [
        "!pip install nlpcloud"
      ],
      "metadata": {
        "colab": {
          "base_uri": "https://localhost:8080/"
        },
        "id": "Z90IIqi0ur5D",
        "outputId": "6a9e4aa0-59f0-4432-dfe6-623d9bd9d930"
      },
      "execution_count": 1,
      "outputs": [
        {
          "output_type": "stream",
          "name": "stdout",
          "text": [
            "Looking in indexes: https://pypi.org/simple, https://us-python.pkg.dev/colab-wheels/public/simple/\n",
            "Collecting nlpcloud\n",
            "  Downloading nlpcloud-1.0.39-py3-none-any.whl (4.5 kB)\n",
            "Requirement already satisfied: requests in /usr/local/lib/python3.9/dist-packages (from nlpcloud) (2.27.1)\n",
            "Requirement already satisfied: certifi>=2017.4.17 in /usr/local/lib/python3.9/dist-packages (from requests->nlpcloud) (2022.12.7)\n",
            "Requirement already satisfied: idna<4,>=2.5 in /usr/local/lib/python3.9/dist-packages (from requests->nlpcloud) (3.4)\n",
            "Requirement already satisfied: charset-normalizer~=2.0.0 in /usr/local/lib/python3.9/dist-packages (from requests->nlpcloud) (2.0.12)\n",
            "Requirement already satisfied: urllib3<1.27,>=1.21.1 in /usr/local/lib/python3.9/dist-packages (from requests->nlpcloud) (1.26.15)\n",
            "Installing collected packages: nlpcloud\n",
            "Successfully installed nlpcloud-1.0.39\n"
          ]
        }
      ]
    },
    {
      "cell_type": "code",
      "source": [
        "import nlpcloud"
      ],
      "metadata": {
        "id": "zwVNG3JVuvCf"
      },
      "execution_count": null,
      "outputs": []
    },
    {
      "cell_type": "code",
      "source": [
        "class NLPtask:\n",
        "  def __init__(self):\n",
        "    self.choice=input('''How would you like to proceed.\n",
        "            1.press 1 to register\n",
        "            2.press 2 to login''')\n",
        "    self.database={}\n",
        "    self.first_menu()\n",
        "  def first_menu(self):\n",
        "    if self.choice=='1':\n",
        "     self.register()\n",
        "    elif self.choice=='2':\n",
        "      self.login()\n",
        "\n",
        "      \n",
        "    else:\n",
        "      print('visit again')\n",
        "\n",
        "  def register(self):\n",
        "     name=input('enter name')\n",
        "     mail=input('enter mail')\n",
        "     pswrd=input('enter password')\n",
        "     if mail in self.database:\n",
        "       print('mail exist')\n",
        "     else:\n",
        "       self.database[mail]=[name,pswrd]\n",
        "       print(self.database)\n",
        "       print('registration successful plz login')\n",
        "       self.login()\n",
        "  def login(self):\n",
        "    new_mail=input('enter mail')\n",
        "    if new_mail in self.database:\n",
        "      passwrd=input('enter pswrd')\n",
        "      if passwrd==self.database[new_mail][1]:\n",
        "        print('welcome')\n",
        "        self.nlptasks()\n",
        "      else:\n",
        "        print('wrong pswrd enter')\n",
        "        self.login()\n",
        "    else:\n",
        "      print('mail doesnot match')\n",
        "      self.register()\n",
        "\n",
        "  def nlptasks(self):\n",
        "    k=input('''what do you want to perform\n",
        "             1.press 1 for ner\n",
        "             2. press 2. for sentiment analysis''')\n",
        "    if k=='1':\n",
        "      self.ner()\n",
        "    else:\n",
        "      self.sentimentanalysis()\n",
        "\n",
        "  def ner(self):\n",
        "    para=input('enter the para')\n",
        "    search=input('what you like to search')\n",
        "  def sentimentanalysis(self):\n",
        "    print('waiting')"
      ],
      "metadata": {
        "id": "jkdrSAayuxOm"
      },
      "execution_count": 26,
      "outputs": []
    },
    {
      "cell_type": "code",
      "source": [
        "obj=NLPtask()"
      ],
      "metadata": {
        "colab": {
          "base_uri": "https://localhost:8080/"
        },
        "id": "GG1aeMgiw2-b",
        "outputId": "7de06408-2be8-49ad-dc2c-c41c0943d796"
      },
      "execution_count": 27,
      "outputs": [
        {
          "name": "stdout",
          "output_type": "stream",
          "text": [
            "How would you like to proceed.\n",
            "            1.press 1 to register\n",
            "            2.press 2 to login1\n",
            "enter nameaman\n",
            "enter mailaman@gmail.com\n",
            "enter password12345\n",
            "{'aman@gmail.com': ['aman', '12345']}\n",
            "registration successful plz login\n",
            "enter mailaman@gmail.com\n",
            "enter pswrd12345\n",
            "welcome\n",
            "what do you want to perform\n",
            "             1.press 1 for ner\n",
            "             2. press 2. for sentiment analysis1\n",
            "enter the parartye\n",
            "what you like to searchtry\n"
          ]
        }
      ]
    }
  ]
}